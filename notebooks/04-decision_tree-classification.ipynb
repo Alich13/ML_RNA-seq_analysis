{
 "cells": [
  {
   "cell_type": "markdown",
   "id": "ec3a92b2",
   "metadata": {},
   "source": [
    "# Decision Tree Classifer\n",
    "Decision Tree is a type of supervised learning algorithm that is mostly used in classification problems. It starts with a single node and turns into a tree structure. It creates a model that predicts the value of a variable by extracting simple rules from data properties and learning those rules (just like a human).\n"
   ]
  },
  {
   "cell_type": "code",
   "execution_count": 19,
   "id": "e0de4849",
   "metadata": {},
   "outputs": [],
   "source": [
    "from sklearn.model_selection import train_test_split\n",
    "from sklearn.metrics import confusion_matrix, classification_report, accuracy_score\n",
    "from sklearn.tree import DecisionTreeClassifier\n",
    "import pydot\n",
    "from sklearn import tree\n",
    "from io import StringIO\n",
    "from src.data import make_dataset\n"
   ]
  },
  {
   "cell_type": "markdown",
   "id": "4acb1a53",
   "metadata": {},
   "source": [
    "# Import data"
   ]
  },
  {
   "cell_type": "code",
   "execution_count": 2,
   "id": "31b25ae7",
   "metadata": {},
   "outputs": [],
   "source": [
    "labled_data_set,expression_level,labels,true_labels= make_dataset.get_data(\"original\")\n",
    "labled_data_set_sd,expression_level_sd,labels,true_labels= make_dataset.get_data(\"standardized\")\n",
    "\n",
    "labels_array= labels[\"Class\"].values\n",
    "\n",
    "HGV,PCA,UMAP,TSNA = make_dataset.get_transformed_data()"
   ]
  },
  {
   "cell_type": "markdown",
   "id": "4aeb9436",
   "metadata": {},
   "source": [
    "# 3. Train classification model\n"
   ]
  },
  {
   "cell_type": "markdown",
   "id": "15f10781",
   "metadata": {},
   "source": [
    "## Using Original data"
   ]
  },
  {
   "cell_type": "code",
   "execution_count": 22,
   "id": "15c2c26d",
   "metadata": {},
   "outputs": [
    {
     "name": "stdout",
     "output_type": "stream",
     "text": [
      "train score: 1.0\n",
      "test score: 0.9800995024875622\n"
     ]
    }
   ],
   "source": [
    "X = expression_level\n",
    "Y = labels_array\n",
    "\n",
    "\n",
    "x_train,x_test,y_train,y_test=train_test_split(X,Y,test_size=0.25,random_state=101)\n",
    "\n",
    "\n",
    "from sklearn.tree import DecisionTreeClassifier\n",
    "d=DecisionTreeClassifier()\n",
    "d.fit(x_train,y_train)\n",
    "y_pred=d.predict(x_test)\n",
    "\n",
    "print(f'train score: {accuracy_score(y_train,d.predict(x_train))}')\n",
    "print(f'test score: {accuracy_score(y_test,y_pred)}')\n",
    "\n",
    "\n"
   ]
  },
  {
   "cell_type": "markdown",
   "id": "70132c7b",
   "metadata": {},
   "source": [
    "## Using Original standardized data"
   ]
  },
  {
   "cell_type": "code",
   "execution_count": 12,
   "id": "6e147abf",
   "metadata": {},
   "outputs": [
    {
     "name": "stdout",
     "output_type": "stream",
     "text": [
      "train score: 1.0\n",
      "test score: 0.9701492537313433\n"
     ]
    }
   ],
   "source": [
    "X = expression_level_sd\n",
    "Y = labels_array\n",
    "\n",
    "\n",
    "x_train,x_test,y_train,y_test=train_test_split(X,Y,test_size=0.25,random_state=101)\n",
    "\n",
    "\n",
    "from sklearn.tree import DecisionTreeClassifier\n",
    "d=DecisionTreeClassifier()\n",
    "d.fit(x_train,y_train)\n",
    "y_pred=d.predict(x_test)\n",
    "\n",
    "print(f'train score: {accuracy_score(y_train,d.predict(x_train))}')\n",
    "print(f'test score: {accuracy_score(y_test,y_pred)}')"
   ]
  },
  {
   "cell_type": "markdown",
   "id": "a93ded31",
   "metadata": {},
   "source": [
    "## Using UMAP-transformed data"
   ]
  },
  {
   "cell_type": "code",
   "execution_count": 11,
   "id": "31ffa021",
   "metadata": {},
   "outputs": [
    {
     "name": "stdout",
     "output_type": "stream",
     "text": [
      "train score: 1.0\n",
      "test score: 1.0\n"
     ]
    }
   ],
   "source": [
    "X = UMAP\n",
    "Y = labels_array\n",
    "\n",
    "\n",
    "x_train,x_test,y_train,y_test=train_test_split(X,Y,test_size=0.25,random_state=101)\n",
    "\n",
    "\n",
    "from sklearn.tree import DecisionTreeClassifier\n",
    "d=DecisionTreeClassifier()\n",
    "d.fit(x_train,y_train)\n",
    "y_pred=d.predict(x_test)\n",
    "\n",
    "print(f'train score: {accuracy_score(y_train,d.predict(x_train))}')\n",
    "print(f'test score: {accuracy_score(y_test,y_pred)}')"
   ]
  },
  {
   "cell_type": "markdown",
   "id": "2b8081f3",
   "metadata": {},
   "source": [
    "## Using TSNA-transformed data"
   ]
  },
  {
   "cell_type": "code",
   "execution_count": 25,
   "id": "c33cae9e",
   "metadata": {},
   "outputs": [
    {
     "name": "stdout",
     "output_type": "stream",
     "text": [
      "train score: 1.0\n",
      "test score: 1.0\n"
     ]
    }
   ],
   "source": [
    "X = TSNA\n",
    "Y = labels_array\n",
    "\n",
    "\n",
    "x_train,x_test,y_train,y_test=train_test_split(X,Y,test_size=0.25,random_state=101)\n",
    "\n",
    "\n",
    "from sklearn.tree import DecisionTreeClassifier\n",
    "d=DecisionTreeClassifier()\n",
    "d.fit(x_train,y_train)\n",
    "y_pred=d.predict(x_test)\n",
    "\n",
    "\n",
    "\n",
    "print(f'train score: {accuracy_score(y_train,d.predict(x_train))}')\n",
    "print(f'test score: {accuracy_score(y_test,y_pred)}')\n",
    "\n",
    "\n"
   ]
  },
  {
   "cell_type": "markdown",
   "id": "f5375734",
   "metadata": {},
   "source": [
    "## Conclusion\n"
   ]
  },
  {
   "cell_type": "markdown",
   "metadata": {},
   "source": []
  }
 ],
 "metadata": {
  "interpreter": {
   "hash": "4ce975d070f49d8485dc61170af7464eb9b042e76e37a8af0edc7d4ae63549a1"
  },
  "kernelspec": {
   "display_name": "Python 3.9.7 64-bit ('ML_env': conda)",
   "language": "python",
   "name": "python3"
  },
  "language_info": {
   "codemirror_mode": {
    "name": "ipython",
    "version": 3
   },
   "file_extension": ".py",
   "mimetype": "text/x-python",
   "name": "python",
   "nbconvert_exporter": "python",
   "pygments_lexer": "ipython3",
   "version": "3.9.7"
  },
  "orig_nbformat": 4
 },
 "nbformat": 4,
 "nbformat_minor": 2
}
