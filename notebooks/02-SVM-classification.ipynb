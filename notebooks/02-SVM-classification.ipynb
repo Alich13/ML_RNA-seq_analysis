{
 "cells": [
  {
   "cell_type": "code",
   "execution_count": null,
   "metadata": {},
   "outputs": [],
   "source": [
    "from sklearn.model_selection import train_test_split\n",
    "from sklearn.metrics import confusion_matrix, classification_report, accuracy_score\n",
    "from sklearn.svm import SVC\n",
    "\n",
    "X = expression_level\n",
    "Y = labels[\"Class\"].values\n",
    "\n",
    "X_train, X_test, Y_train, Y_test = train_test_split(X, Y, test_size = 0.30, random_state = 10 ,shuffle=Y)"
   ]
  },
  {
   "cell_type": "code",
   "execution_count": null,
   "metadata": {},
   "outputs": [],
   "source": [
    "lsvc_model = SVC(kernel = 'linear', random_state = 10)\n",
    "lsvc_model.fit(X_train, Y_train) \n",
    "Y_pred = lsvc_model.predict(X_test)\n",
    "\n",
    "print('train score: '+ str(lsvc_model.score(X_train,Y_train)))\n",
    "print('test score:  '+ str(lsvc_model.score(X_test,Y_test)))"
   ]
  },
  {
   "cell_type": "code",
   "execution_count": null,
   "metadata": {},
   "outputs": [],
   "source": []
  },
  {
   "cell_type": "markdown",
   "metadata": {},
   "source": [
    "## 3. Train classification model\n",
    "Using UMAP-transformed data, separate into train and test set"
   ]
  },
  {
   "cell_type": "code",
   "execution_count": null,
   "metadata": {},
   "outputs": [],
   "source": [
    "X = X_umap.drop(['Class'],axis=1)\n",
    "Y = X_umap['Class']\n",
    "\n",
    "X_train, X_test, Y_train, Y_test = train_test_split(X, Y, test_size = 0.25, random_state = 10)"
   ]
  },
  {
   "cell_type": "code",
   "execution_count": null,
   "metadata": {},
   "outputs": [],
   "source": [
    "#Train linear SVM model\n",
    "lsvc_model = SVC(kernel = 'linear', random_state = 10)\n",
    "lsvc_model.fit(X_train, Y_train) \n",
    "Y_pred = lsvc_model.predict(X_test)\n",
    "\n",
    "print('train score: '+str(lsvc_model.score(X_train,Y_train)))\n",
    "print('test score:  '+str(lsvc_model.score(X_test,Y_test)))"
   ]
  },
  {
   "cell_type": "markdown",
   "metadata": {},
   "source": [
    "4. Conclusion\n",
    "UMAP and T-SNE do an excellent job of separating the tumor types. A simple SVM model, with no parameter optimization, is able to predict the test data with 100% accuracy using UMAP-transformed data. Here, over 20,000 genes have been reduced to two dimensions. Two distinct clusters appear for the BRCA tumors; additional data, e.g. single cell RNA-seq, would be interesting to analyze to understand the distinction."
   ]
  }
 ],
 "metadata": {
  "interpreter": {
   "hash": "4ce975d070f49d8485dc61170af7464eb9b042e76e37a8af0edc7d4ae63549a1"
  },
  "kernelspec": {
   "display_name": "Python 3.9.7 64-bit ('ML_env': conda)",
   "language": "python",
   "name": "python3"
  },
  "language_info": {
   "codemirror_mode": {
    "name": "ipython",
    "version": 3
   },
   "file_extension": ".py",
   "mimetype": "text/x-python",
   "name": "python",
   "nbconvert_exporter": "python",
   "pygments_lexer": "ipython3",
   "version": "3.9.7"
  },
  "orig_nbformat": 4
 },
 "nbformat": 4,
 "nbformat_minor": 2
}
