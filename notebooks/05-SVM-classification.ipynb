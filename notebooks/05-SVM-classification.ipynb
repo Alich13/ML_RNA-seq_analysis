{
 "cells": [
  {
   "cell_type": "markdown",
   "metadata": {},
   "source": [
    "# Support Vector Machine\n",
    "\n",
    "Support Vector Machine tries to find the best line that separates the two classes just like logistic regression. The green region within ± 1 of this line is called Margin. The wider the margin, the better the separation of two or more classes. SVM predicts which side of the gap the new samples will fall."
   ]
  },
  {
   "cell_type": "code",
   "execution_count": 2,
   "metadata": {},
   "outputs": [],
   "source": [
    "from sklearn.model_selection import train_test_split\n",
    "from sklearn.metrics import confusion_matrix, classification_report, accuracy_score\n",
    "from sklearn.svm import SVC\n",
    "\n",
    "from src.data import make_dataset\n"
   ]
  },
  {
   "cell_type": "markdown",
   "metadata": {},
   "source": [
    "# Import data"
   ]
  },
  {
   "cell_type": "code",
   "execution_count": 3,
   "metadata": {},
   "outputs": [],
   "source": [
    "labled_data_set,expression_level,labels,true_labels= make_dataset.get_data(\"original\")\n",
    "labled_data_set_sd,expression_level_sd,labels,true_labels= make_dataset.get_data(\"standardized\")\n",
    "\n",
    "labels_array= labels[\"Class\"].values\n",
    "\n",
    "HGV,PCA,UMAP,TSNA = make_dataset.get_transformed_data()"
   ]
  },
  {
   "cell_type": "markdown",
   "metadata": {},
   "source": [
    "# 3. Train classification model\n"
   ]
  },
  {
   "cell_type": "markdown",
   "metadata": {},
   "source": [
    "## Using Original data"
   ]
  },
  {
   "cell_type": "code",
   "execution_count": 5,
   "metadata": {},
   "outputs": [
    {
     "name": "stdout",
     "output_type": "stream",
     "text": [
      "train score: 1.0\n",
      "test score:  0.9950248756218906\n"
     ]
    }
   ],
   "source": [
    "X = expression_level\n",
    "Y = labels_array\n",
    "\n",
    "X_train, X_test, Y_train, Y_test = train_test_split(X, Y, test_size = 0.25, random_state = 10)\n",
    "#Train linear SVM model\n",
    "lsvc_model = SVC(kernel = 'linear', random_state = 10)\n",
    "lsvc_model.fit(X_train, Y_train) \n",
    "Y_pred = lsvc_model.predict(X_test)\n",
    "\n",
    "print('train score: '+str(lsvc_model.score(X_train,Y_train)))\n",
    "print('test score:  '+str(lsvc_model.score(X_test,Y_test)))"
   ]
  },
  {
   "cell_type": "markdown",
   "metadata": {},
   "source": [
    "## Using Original standardized data"
   ]
  },
  {
   "cell_type": "code",
   "execution_count": 7,
   "metadata": {},
   "outputs": [
    {
     "name": "stdout",
     "output_type": "stream",
     "text": [
      "train score: 1.0\n",
      "test score:  1.0\n"
     ]
    }
   ],
   "source": [
    "X = expression_level_sd\n",
    "Y = labels_array\n",
    "\n",
    "X_train, X_test, Y_train, Y_test = train_test_split(X, Y, test_size = 0.25, random_state = 10)\n",
    "#Train linear SVM model\n",
    "lsvc_model = SVC(kernel = 'linear', random_state = 10)\n",
    "lsvc_model.fit(X_train, Y_train) \n",
    "Y_pred = lsvc_model.predict(X_test)\n",
    "\n",
    "print('train score: '+str(lsvc_model.score(X_train,Y_train)))\n",
    "print('test score:  '+str(lsvc_model.score(X_test,Y_test)))"
   ]
  },
  {
   "cell_type": "markdown",
   "metadata": {},
   "source": [
    "## Using UMAP-transformed data"
   ]
  },
  {
   "cell_type": "code",
   "execution_count": 4,
   "metadata": {},
   "outputs": [
    {
     "name": "stdout",
     "output_type": "stream",
     "text": [
      "train score: 1.0\n",
      "test score:  1.0\n"
     ]
    }
   ],
   "source": [
    "X = UMAP\n",
    "Y = labels_array\n",
    "\n",
    "X_train, X_test, Y_train, Y_test = train_test_split(X, Y, test_size = 0.25, random_state = 10)\n",
    "#Train linear SVM model\n",
    "lsvc_model = SVC(kernel = 'linear', random_state = 10)\n",
    "lsvc_model.fit(X_train, Y_train) \n",
    "Y_pred = lsvc_model.predict(X_test)\n",
    "\n",
    "print('train score: '+str(lsvc_model.score(X_train,Y_train)))\n",
    "print('test score:  '+str(lsvc_model.score(X_test,Y_test)))"
   ]
  },
  {
   "cell_type": "markdown",
   "metadata": {},
   "source": [
    "## Using TSNA-transformed data"
   ]
  },
  {
   "cell_type": "code",
   "execution_count": 6,
   "metadata": {},
   "outputs": [
    {
     "name": "stdout",
     "output_type": "stream",
     "text": [
      "train score: 0.9983333333333333\n",
      "test score:  1.0\n"
     ]
    }
   ],
   "source": [
    "X = TSNA\n",
    "Y = labels_array\n",
    "\n",
    "X_train, X_test, Y_train, Y_test = train_test_split(X, Y, test_size = 0.25, random_state = 10)\n",
    "#Train linear SVM model\n",
    "lsvc_model = SVC(kernel = 'linear', random_state = 10)\n",
    "lsvc_model.fit(X_train, Y_train) \n",
    "Y_pred = lsvc_model.predict(X_test)\n",
    "\n",
    "print('train score: '+str(lsvc_model.score(X_train,Y_train)))\n",
    "print('test score:  '+str(lsvc_model.score(X_test,Y_test)))"
   ]
  },
  {
   "cell_type": "markdown",
   "metadata": {},
   "source": [
    "4. Conclusion\n",
    "UMAP and T-SNE do an excellent job of separating the tumor types. A simple SVM model, with no parameter optimization, is able to predict the test data with 100% accuracy using UMAP-transformed data. Here, over 20,000 genes have been reduced to two dimensions. Two distinct clusters appear for the BRCA tumors; additional data, e.g. single cell RNA-seq, would be interesting to analyze to understand the distinction."
   ]
  }
 ],
 "metadata": {
  "interpreter": {
   "hash": "4ce975d070f49d8485dc61170af7464eb9b042e76e37a8af0edc7d4ae63549a1"
  },
  "kernelspec": {
   "display_name": "Python 3.9.7 64-bit ('ML_env': conda)",
   "language": "python",
   "name": "python3"
  },
  "language_info": {
   "codemirror_mode": {
    "name": "ipython",
    "version": 3
   },
   "file_extension": ".py",
   "mimetype": "text/x-python",
   "name": "python",
   "nbconvert_exporter": "python",
   "pygments_lexer": "ipython3",
   "version": "3.9.7"
  },
  "orig_nbformat": 4
 },
 "nbformat": 4,
 "nbformat_minor": 2
}
